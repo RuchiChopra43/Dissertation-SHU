{
 "cells": [
  {
   "cell_type": "code",
   "execution_count": 1,
   "metadata": {},
   "outputs": [
    {
     "name": "stdout",
     "output_type": "stream",
     "text": [
      "Requirement already satisfied: keras in c:\\users\\ruchi\\anaconda3\\lib\\site-packages (2.4.3)\n",
      "Requirement already satisfied: h5py in c:\\users\\ruchi\\anaconda3\\lib\\site-packages (from keras) (2.10.0)\n",
      "Requirement already satisfied: pyyaml in c:\\users\\ruchi\\anaconda3\\lib\\site-packages (from keras) (5.3.1)\n",
      "Requirement already satisfied: scipy>=0.14 in c:\\users\\ruchi\\anaconda3\\lib\\site-packages (from keras) (1.4.1)\n",
      "Requirement already satisfied: numpy>=1.9.1 in c:\\users\\ruchi\\anaconda3\\lib\\site-packages (from keras) (1.18.5)\n",
      "Requirement already satisfied: six in c:\\users\\ruchi\\anaconda3\\lib\\site-packages (from h5py->keras) (1.15.0)\n",
      "Note: you may need to restart the kernel to use updated packages.\n"
     ]
    }
   ],
   "source": [
    "pip install keras"
   ]
  },
  {
   "cell_type": "code",
   "execution_count": 2,
   "metadata": {},
   "outputs": [],
   "source": [
    "from keras.datasets import imdb\n",
    "from keras.models import Sequential\n",
    "from keras.layers import Dense\n",
    "from keras.layers import Flatten\n",
    "from keras.layers.embeddings import Embedding\n",
    "from keras.preprocessing import sequence\n",
    "\n",
    "def CreateModel():\n",
    "    \n",
    "    #this is to load the data and only top 5000 words will be kept\n",
    "    (X_train, y_train), (X_test, y_test) = imdb.load_data(num_words=5000)\n",
    "     \n",
    "    # we need to limit the maximum length of review to 5000 so max length is defined \n",
    "    X_train = sequence.pad_sequences(X_train, maxlen=500)\n",
    "    X_test = sequence.pad_sequences(X_test, maxlen=500)\n",
    "\n",
    "    model = object()\n",
    "    \n",
    "    print('models that are available')\n",
    "    print('1. MultinomialNB \\n 2. Support Vector \\n 3. Random Forest \\n 4. Neural Networks')\n",
    "    \n",
    "    slctd_mdl = input('model number to be selected- enter the number')\n",
    "\n",
    "    if (slctd_mdl == '1'):\n",
    "        \n",
    "        from sklearn.naive_bayes import MultinomialNB\n",
    "\n",
    "        clf1 = MultinomialNB()\n",
    "        \n",
    "        clf1.fit(X_train, y_train)\n",
    "\n",
    "        y_pred_class = clf1.predict(X_test)\n",
    "        \n",
    "        from sklearn import metrics\n",
    "\n",
    "        print(metrics.classification_report(y_test, y_pred_class))\n",
    "\n",
    "        model = clf1\n",
    "    if (slctd_mdl == '2'):\n",
    "        \n",
    "        from sklearn import svm\n",
    "\n",
    "       \n",
    "        clf2 = svm.SVC()  \n",
    "\n",
    "        \n",
    "        clf2.fit(X_train, y_train)\n",
    "\n",
    "       \n",
    "        y_pred = clf2.predict(X_test)\n",
    "\n",
    "       \n",
    "        from sklearn import metrics\n",
    "\n",
    "        print(metrics.classification_report(y_test, y_pred))\n",
    "\n",
    "        model = clf2\n",
    "    if (slctd_mdl == '3'):\n",
    "        \n",
    "        from sklearn.ensemble import RandomForestClassifier\n",
    "\n",
    "        \n",
    "        clf3 = RandomForestClassifier()\n",
    "\n",
    "        \n",
    "        clf3.fit(X_train, y_train)\n",
    "\n",
    "        \n",
    "        y_pred = clf3.predict(X_test)\n",
    "\n",
    "        \n",
    "        from sklearn import metrics\n",
    "\n",
    "        print(metrics.classification_report(y_test, y_pred))\n",
    "\n",
    "        model = clf3\n",
    "\n",
    "    elif (slctd_mdl == '4'):\n",
    "        \n",
    "        model = Sequential()\n",
    "        model.add(Embedding(5000, 32, input_length=500))\n",
    "        model.add(Flatten())\n",
    "        model.add(Dense(250, activation='relu'))\n",
    "        model.add(Dense(1, activation='sigmoid'))\n",
    "        model.compile(loss='binary_crossentropy', optimizer='adam', metrics=['accuracy'])\n",
    "        model.summary()\n",
    "        \n",
    "        model.fit(X_train, y_train, validation_data=(X_test, y_test), epochs=2, batch_size=128)\n",
    "    else:\n",
    "        print('Select appropriate model')"
   ]
  },
  {
   "cell_type": "code",
   "execution_count": 3,
   "metadata": {},
   "outputs": [
    {
     "name": "stdout",
     "output_type": "stream",
     "text": [
      "models that are available\n",
      "1. MultinomialNB \n",
      " 2. Support Vector \n",
      " 3. Random Forest \n",
      " 4. Neural Networks\n",
      "model number to be selected- enter the number1\n",
      "              precision    recall  f1-score   support\n",
      "\n",
      "           0       0.50      0.80      0.61     12500\n",
      "           1       0.50      0.20      0.29     12500\n",
      "\n",
      "    accuracy                           0.50     25000\n",
      "   macro avg       0.50      0.50      0.45     25000\n",
      "weighted avg       0.50      0.50      0.45     25000\n",
      "\n",
      "Select appropriate model\n"
     ]
    }
   ],
   "source": [
    "CreateModel()"
   ]
  },
  {
   "cell_type": "code",
   "execution_count": 4,
   "metadata": {},
   "outputs": [
    {
     "name": "stdout",
     "output_type": "stream",
     "text": [
      "models that are available\n",
      "1. MultinomialNB \n",
      " 2. Support Vector \n",
      " 3. Random Forest \n",
      " 4. Neural Networks\n",
      "model number to be selected- enter the number3\n",
      "              precision    recall  f1-score   support\n",
      "\n",
      "           0       0.52      0.57      0.54     12500\n",
      "           1       0.53      0.48      0.50     12500\n",
      "\n",
      "    accuracy                           0.53     25000\n",
      "   macro avg       0.53      0.53      0.52     25000\n",
      "weighted avg       0.53      0.53      0.52     25000\n",
      "\n"
     ]
    }
   ],
   "source": [
    "CreateModel()"
   ]
  },
  {
   "cell_type": "code",
   "execution_count": 5,
   "metadata": {},
   "outputs": [
    {
     "name": "stdout",
     "output_type": "stream",
     "text": [
      "models that are available\n",
      "1. MultinomialNB \n",
      " 2. Support Vector \n",
      " 3. Random Forest \n",
      " 4. Neural Networks\n",
      "model number to be selected- enter the number4\n",
      "Model: \"sequential\"\n",
      "_________________________________________________________________\n",
      "Layer (type)                 Output Shape              Param #   \n",
      "=================================================================\n",
      "embedding (Embedding)        (None, 500, 32)           160000    \n",
      "_________________________________________________________________\n",
      "flatten (Flatten)            (None, 16000)             0         \n",
      "_________________________________________________________________\n",
      "dense (Dense)                (None, 250)               4000250   \n",
      "_________________________________________________________________\n",
      "dense_1 (Dense)              (None, 1)                 251       \n",
      "=================================================================\n",
      "Total params: 4,160,501\n",
      "Trainable params: 4,160,501\n",
      "Non-trainable params: 0\n",
      "_________________________________________________________________\n",
      "Epoch 1/2\n",
      "196/196 [==============================] - 14s 69ms/step - loss: 0.5480 - accuracy: 0.6888 - val_loss: 0.3482 - val_accuracy: 0.8450\n",
      "Epoch 2/2\n",
      "196/196 [==============================] - 13s 69ms/step - loss: 0.2088 - accuracy: 0.9196 - val_loss: 0.2932 - val_accuracy: 0.8761\n"
     ]
    }
   ],
   "source": [
    "CreateModel()\n"
   ]
  },
  {
   "cell_type": "code",
   "execution_count": null,
   "metadata": {},
   "outputs": [],
   "source": []
  }
 ],
 "metadata": {
  "kernelspec": {
   "display_name": "Python 3",
   "language": "python",
   "name": "python3"
  },
  "language_info": {
   "codemirror_mode": {
    "name": "ipython",
    "version": 3
   },
   "file_extension": ".py",
   "mimetype": "text/x-python",
   "name": "python",
   "nbconvert_exporter": "python",
   "pygments_lexer": "ipython3",
   "version": "3.8.3"
  }
 },
 "nbformat": 4,
 "nbformat_minor": 4
}
